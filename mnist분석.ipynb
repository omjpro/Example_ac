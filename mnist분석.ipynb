{
  "nbformat": 4,
  "nbformat_minor": 0,
  "metadata": {
    "colab": {
      "name": "mnist분석.ipynb",
      "provenance": [],
      "authorship_tag": "ABX9TyOoGzw+qHynszJY3h3nwVQj",
      "include_colab_link": true
    },
    "kernelspec": {
      "name": "python3",
      "display_name": "Python 3"
    },
    "language_info": {
      "name": "python"
    }
  },
  "cells": [
    {
      "cell_type": "markdown",
      "metadata": {
        "id": "view-in-github",
        "colab_type": "text"
      },
      "source": [
        "<a href=\"https://colab.research.google.com/github/omjpro/Example_ac/blob/master/mnist%EB%B6%84%EC%84%9D.ipynb\" target=\"_parent\"><img src=\"https://colab.research.google.com/assets/colab-badge.svg\" alt=\"Open In Colab\"/></a>"
      ]
    },
    {
      "cell_type": "code",
      "metadata": {
        "colab": {
          "base_uri": "https://localhost:8080/",
          "height": 1000
        },
        "id": "MxMvGjPL44iR",
        "outputId": "ba2e38cb-57a5-42c8-c467-421d9dc8ab6f"
      },
      "source": [
        "import numpy as np\n",
        "import tensorflow as tf\n",
        "import matplotlib.pyplot as plt\n",
        "\n",
        "\n",
        "# MNIST 데이터 세트를 불러옵니다.\n",
        "mnist = tf.keras.datasets.mnist\n",
        "\n",
        "# MNIST 데이터 세트를 Train set과 Test set으로 나누어 줍니다.\n",
        "(train_images, train_labels), (test_images, test_labels) = mnist.load_data()    \n",
        "\n",
        "# Train 데이터 5000개와 Test 데이터 1000개를 사용합니다.\n",
        "train_images, train_labels = train_images[:5000], train_labels[:5000]\n",
        "test_images, test_labels = test_images[:1000], test_labels[:1000]\n",
        "\n",
        "# CNN 모델의 입력으로 사용할 수 있도록 (샘플개수, 가로픽셀, 세로픽셀, 1) 형태로 변환합니다.\n",
        "train_images = tf.expand_dims(train_images, -1)\n",
        "test_images = tf.expand_dims(test_images, -1)\n",
        "\n",
        "\n",
        "\"\"\"\n",
        "1. CNN 모델을 설정합니다.\n",
        "   분류 모델에 맞게 마지막 레이어의 노드 수는 10개, activation 함수는 'softmax'로 설정합니다.\n",
        "\"\"\"\n",
        "model = tf.keras.Sequential([\n",
        "    tf.keras.layers.Conv2D(filters = 32, kernel_size = (3,3), activation = 'relu', padding = 'SAME', input_shape = (28,28,1)),\n",
        "    tf.keras.layers.MaxPool2D(padding = 'SAME'),\n",
        "    tf.keras.layers.Conv2D(filters = 32, kernel_size = (3,3), activation = 'relu', padding = 'SAME'),\n",
        "    tf.keras.layers.MaxPool2D(padding = 'SAME'),\n",
        "    tf.keras.layers.Conv2D(filters = 32, kernel_size = (3,3), activation = 'relu', padding = 'SAME'),\n",
        "    tf.keras.layers.MaxPool2D(padding = 'SAME'),\n",
        "    tf.keras.layers.Flatten(),\n",
        "    tf.keras.layers.Dense(64, activation = 'relu'),\n",
        "    tf.keras.layers.Dense(10, activation = 'softmax')\n",
        "])\n",
        "\n",
        "# CNN 모델 구조를 출력합니다.\n",
        "print(model.summary())\n",
        "\n",
        "# CNN 모델의 학습 방법을 설정합니다.\n",
        "model.compile(loss = 'sparse_categorical_crossentropy',\n",
        "              optimizer = 'adam',\n",
        "              metrics = ['accuracy'])\n",
        "              \n",
        "# 학습을 수행합니다. \n",
        "history = model.fit(train_images, train_labels, epochs = 20, batch_size = 512)\n"
      ],
      "execution_count": 1,
      "outputs": [
        {
          "output_type": "stream",
          "text": [
            "Downloading data from https://storage.googleapis.com/tensorflow/tf-keras-datasets/mnist.npz\n",
            "11493376/11490434 [==============================] - 0s 0us/step\n",
            "Model: \"sequential\"\n",
            "_________________________________________________________________\n",
            "Layer (type)                 Output Shape              Param #   \n",
            "=================================================================\n",
            "conv2d (Conv2D)              (None, 28, 28, 32)        320       \n",
            "_________________________________________________________________\n",
            "max_pooling2d (MaxPooling2D) (None, 14, 14, 32)        0         \n",
            "_________________________________________________________________\n",
            "conv2d_1 (Conv2D)            (None, 14, 14, 32)        9248      \n",
            "_________________________________________________________________\n",
            "max_pooling2d_1 (MaxPooling2 (None, 7, 7, 32)          0         \n",
            "_________________________________________________________________\n",
            "conv2d_2 (Conv2D)            (None, 7, 7, 32)          9248      \n",
            "_________________________________________________________________\n",
            "max_pooling2d_2 (MaxPooling2 (None, 4, 4, 32)          0         \n",
            "_________________________________________________________________\n",
            "flatten (Flatten)            (None, 512)               0         \n",
            "_________________________________________________________________\n",
            "dense (Dense)                (None, 64)                32832     \n",
            "_________________________________________________________________\n",
            "dense_1 (Dense)              (None, 10)                650       \n",
            "=================================================================\n",
            "Total params: 52,298\n",
            "Trainable params: 52,298\n",
            "Non-trainable params: 0\n",
            "_________________________________________________________________\n",
            "None\n",
            "Epoch 1/20\n",
            "10/10 [==============================] - 5s 395ms/step - loss: 7.6537 - accuracy: 0.2690\n",
            "Epoch 2/20\n",
            "10/10 [==============================] - 4s 394ms/step - loss: 1.2923 - accuracy: 0.6098\n",
            "Epoch 3/20\n",
            "10/10 [==============================] - 4s 392ms/step - loss: 0.7761 - accuracy: 0.7458\n",
            "Epoch 4/20\n",
            "10/10 [==============================] - 4s 396ms/step - loss: 0.5422 - accuracy: 0.8322\n",
            "Epoch 5/20\n",
            "10/10 [==============================] - 4s 395ms/step - loss: 0.4062 - accuracy: 0.8784\n",
            "Epoch 6/20\n",
            "10/10 [==============================] - 4s 392ms/step - loss: 0.3270 - accuracy: 0.9024\n",
            "Epoch 7/20\n",
            "10/10 [==============================] - 4s 394ms/step - loss: 0.2688 - accuracy: 0.9228\n",
            "Epoch 8/20\n",
            "10/10 [==============================] - 4s 393ms/step - loss: 0.2219 - accuracy: 0.9364\n",
            "Epoch 9/20\n",
            "10/10 [==============================] - 4s 393ms/step - loss: 0.1859 - accuracy: 0.9492\n",
            "Epoch 10/20\n",
            "10/10 [==============================] - 4s 397ms/step - loss: 0.1592 - accuracy: 0.9566\n",
            "Epoch 11/20\n",
            "10/10 [==============================] - 4s 393ms/step - loss: 0.1368 - accuracy: 0.9656\n",
            "Epoch 12/20\n",
            "10/10 [==============================] - 4s 392ms/step - loss: 0.1183 - accuracy: 0.9704\n",
            "Epoch 13/20\n",
            "10/10 [==============================] - 4s 397ms/step - loss: 0.1021 - accuracy: 0.9756\n",
            "Epoch 14/20\n",
            "10/10 [==============================] - 4s 393ms/step - loss: 0.0885 - accuracy: 0.9780\n",
            "Epoch 15/20\n",
            "10/10 [==============================] - 4s 394ms/step - loss: 0.0763 - accuracy: 0.9802\n",
            "Epoch 16/20\n",
            "10/10 [==============================] - 4s 390ms/step - loss: 0.0654 - accuracy: 0.9824\n",
            "Epoch 17/20\n",
            "10/10 [==============================] - 4s 393ms/step - loss: 0.0561 - accuracy: 0.9874\n",
            "Epoch 18/20\n",
            "10/10 [==============================] - 4s 393ms/step - loss: 0.0482 - accuracy: 0.9890\n",
            "Epoch 19/20\n",
            "10/10 [==============================] - 4s 393ms/step - loss: 0.0422 - accuracy: 0.9900\n",
            "Epoch 20/20\n",
            "10/10 [==============================] - 4s 394ms/step - loss: 0.0336 - accuracy: 0.9926\n"
          ],
          "name": "stdout"
        },
        {
          "output_type": "error",
          "ename": "NameError",
          "evalue": "ignored",
          "traceback": [
            "\u001b[0;31m---------------------------------------------------------------------------\u001b[0m",
            "\u001b[0;31mNameError\u001b[0m                                 Traceback (most recent call last)",
            "\u001b[0;32m<ipython-input-1-505932e5bc04>\u001b[0m in \u001b[0;36m<module>\u001b[0;34m()\u001b[0m\n\u001b[1;32m     47\u001b[0m \u001b[0;34m\u001b[0m\u001b[0m\n\u001b[1;32m     48\u001b[0m \u001b[0;31m# 학습 결과를 출력합니다.\u001b[0m\u001b[0;34m\u001b[0m\u001b[0;34m\u001b[0m\u001b[0;34m\u001b[0m\u001b[0m\n\u001b[0;32m---> 49\u001b[0;31m \u001b[0mVisulaize\u001b[0m\u001b[0;34m(\u001b[0m\u001b[0;34m[\u001b[0m\u001b[0;34m(\u001b[0m\u001b[0;34m'CNN'\u001b[0m\u001b[0;34m,\u001b[0m \u001b[0mhistory\u001b[0m\u001b[0;34m)\u001b[0m\u001b[0;34m]\u001b[0m\u001b[0;34m,\u001b[0m \u001b[0;34m'loss'\u001b[0m\u001b[0;34m)\u001b[0m\u001b[0;34m\u001b[0m\u001b[0;34m\u001b[0m\u001b[0m\n\u001b[0m",
            "\u001b[0;31mNameError\u001b[0m: name 'Visulaize' is not defined"
          ]
        }
      ]
    }
  ]
}